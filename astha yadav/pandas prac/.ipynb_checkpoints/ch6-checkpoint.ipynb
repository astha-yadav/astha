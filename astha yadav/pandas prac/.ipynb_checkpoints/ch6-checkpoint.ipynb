{
 "cells": [
  {
   "cell_type": "code",
   "execution_count": 15,
   "metadata": {},
   "outputs": [
    {
     "name": "stdout",
     "output_type": "stream",
     "text": [
      "   one  two letter\n",
      "0    1    2      a\n",
      "1    8    3      a\n",
      "2    2    5      b\n",
      "3    6    1      c\n",
      "        one  two\n",
      "letter          \n",
      "a         9    5\n",
      "b         2    5\n",
      "c         6    1\n",
      "  letter  one  two\n",
      "0      a    1    2\n",
      "1      a    8    3\n",
      "2      b    2    5\n",
      "3      c    6    1\n"
     ]
    },
    {
     "data": {
      "text/plain": [
       "Int64Index([0, 1, 2, 3], dtype='int64')"
      ]
     },
     "execution_count": 15,
     "metadata": {},
     "output_type": "execute_result"
    }
   ],
   "source": [
    "import pandas as pd\n",
    "d={'one':[1,8,2,6],\n",
    "  'two':[2,3,5,1],\n",
    "  'letter':['a','a','b','c']}\n",
    "df=pd.DataFrame(d)\n",
    "print(df)\n",
    "one=df.groupby('letter')\n",
    "print(one.sum())\n",
    "letterone=df.groupby(['letter','one'],as_index=False).sum()\n",
    "print(letterone)\n",
    "letterone.index\n"
   ]
  }
 ],
 "metadata": {
  "kernelspec": {
   "display_name": "Python 3",
   "language": "python",
   "name": "python3"
  },
  "language_info": {
   "codemirror_mode": {
    "name": "ipython",
    "version": 3
   },
   "file_extension": ".py",
   "mimetype": "text/x-python",
   "name": "python",
   "nbconvert_exporter": "python",
   "pygments_lexer": "ipython3",
   "version": "3.7.1"
  }
 },
 "nbformat": 4,
 "nbformat_minor": 2
}

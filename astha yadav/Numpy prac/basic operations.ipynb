{
 "cells": [
  {
   "cell_type": "code",
   "execution_count": 13,
   "metadata": {},
   "outputs": [
    {
     "name": "stdout",
     "output_type": "stream",
     "text": [
      "[0 1 2 3]\n",
      "addn: [6 9 4 8]\n",
      "subtrn: [6 7 0 2]\n",
      "multipl: [ 0  8  4 15]\n",
      "divsn: [0.    0.125 1.    0.6  ]\n",
      "a[]*2= [36 64  4 25]\n",
      "sinx: [-2.79415498  9.89358247  9.09297427 -9.58924275]\n",
      "a<6 [False False  True  True]\n"
     ]
    }
   ],
   "source": [
    "import numpy as np\n",
    "a=np.array([6,8,2,5])\n",
    "b=np.arange(4)\n",
    "print(b)\n",
    "c=a+b\n",
    "print(\"addn:\",c)\n",
    "d=a-b\n",
    "print(\"subtrn:\",d)\n",
    "d=a*b\n",
    "print(\"multipl:\",d)\n",
    "e=b/a\n",
    "print(\"divsn:\",e)\n",
    "print(\"a[]*2=\",a**2)\n",
    "print(\"sinx:\",10*np.sin(a))\n",
    "print(\"a<6\",a<6)"
   ]
  },
  {
   "cell_type": "code",
   "execution_count": 20,
   "metadata": {},
   "outputs": [
    {
     "name": "stdout",
     "output_type": "stream",
     "text": [
      "elementwise:\n",
      "  [[ 6 16  6]\n",
      " [ 1  4  9]\n",
      " [ 4 12 15]]\n",
      "matrix1:\n",
      "  [[16 32 48]\n",
      " [ 6 12 18]\n",
      " [15 30 45]]\n",
      "matrix2:\n",
      "  [[16 32 48]\n",
      " [ 6 12 18]\n",
      " [15 30 45]]\n"
     ]
    }
   ],
   "source": [
    "a=np.array([(6,8,2),(1,2,3),(4,6,5)])\n",
    "b=np.array([(1,2,3),(1,2,3),(1,2,3)])\n",
    "\n",
    "print(\"elementwise:\\n \",a*b)                  #elementwise product\n",
    "\n",
    "print(\"matrix1:\\n \",a@b)                  #matrix multiplication\n",
    "\n",
    "print(\"matrix2:\\n \",a.dot(b))             #matrix multiplication"
   ]
  },
  {
   "cell_type": "code",
   "execution_count": 1,
   "metadata": {},
   "outputs": [
    {
     "ename": "NameError",
     "evalue": "name 'np' is not defined",
     "output_type": "error",
     "traceback": [
      "\u001b[1;31m---------------------------------------------------------------------------\u001b[0m",
      "\u001b[1;31mNameError\u001b[0m                                 Traceback (most recent call last)",
      "\u001b[1;32m<ipython-input-1-d5aefbd14b25>\u001b[0m in \u001b[0;36m<module>\u001b[1;34m\u001b[0m\n\u001b[1;32m----> 1\u001b[1;33m \u001b[0ma\u001b[0m\u001b[1;33m=\u001b[0m\u001b[0mnp\u001b[0m\u001b[1;33m.\u001b[0m\u001b[0mrandom\u001b[0m\u001b[1;33m.\u001b[0m\u001b[0mrandom\u001b[0m\u001b[1;33m(\u001b[0m\u001b[1;33m(\u001b[0m\u001b[1;36m2\u001b[0m\u001b[1;33m,\u001b[0m\u001b[1;36m3\u001b[0m\u001b[1;33m)\u001b[0m\u001b[1;33m)\u001b[0m\u001b[1;33m\u001b[0m\u001b[1;33m\u001b[0m\u001b[0m\n\u001b[0m\u001b[0;32m      2\u001b[0m \u001b[0mprint\u001b[0m\u001b[1;33m(\u001b[0m\u001b[0ma\u001b[0m\u001b[1;33m)\u001b[0m\u001b[1;33m\u001b[0m\u001b[1;33m\u001b[0m\u001b[0m\n\u001b[0;32m      3\u001b[0m \u001b[0mb\u001b[0m\u001b[1;33m=\u001b[0m\u001b[0mnp\u001b[0m\u001b[1;33m.\u001b[0m\u001b[0marray\u001b[0m\u001b[1;33m(\u001b[0m\u001b[1;33m[\u001b[0m\u001b[1;33m(\u001b[0m\u001b[1;36m1\u001b[0m\u001b[1;33m,\u001b[0m\u001b[1;36m2\u001b[0m\u001b[1;33m,\u001b[0m\u001b[1;36m3\u001b[0m\u001b[1;33m)\u001b[0m\u001b[1;33m,\u001b[0m\u001b[1;33m(\u001b[0m\u001b[1;36m4\u001b[0m\u001b[1;33m,\u001b[0m\u001b[1;36m5\u001b[0m\u001b[1;33m,\u001b[0m\u001b[1;36m6\u001b[0m\u001b[1;33m)\u001b[0m\u001b[1;33m]\u001b[0m\u001b[1;33m,\u001b[0m\u001b[0mdtype\u001b[0m\u001b[1;33m=\u001b[0m\u001b[0mint\u001b[0m\u001b[1;33m)\u001b[0m\u001b[1;33m\u001b[0m\u001b[1;33m\u001b[0m\u001b[0m\n\u001b[0;32m      4\u001b[0m \u001b[0mb\u001b[0m\u001b[1;33m*=\u001b[0m\u001b[1;36m3\u001b[0m\u001b[1;33m\u001b[0m\u001b[1;33m\u001b[0m\u001b[0m\n\u001b[0;32m      5\u001b[0m \u001b[0ma\u001b[0m\u001b[1;33m+=\u001b[0m\u001b[0mb\u001b[0m\u001b[1;33m\u001b[0m\u001b[1;33m\u001b[0m\u001b[0m\n",
      "\u001b[1;31mNameError\u001b[0m: name 'np' is not defined"
     ]
    }
   ],
   "source": [
    "a=np.random.random((2,3))\n",
    "print(a)\n",
    "b=np.array([(1,2,3),(4,5,6)],dtype=int)\n",
    "b*=3\n",
    "a+=b\n",
    "#b+=a    bcoz cant add float to int  and cant specify dtype in random func\n",
    "b"
   ]
  },
  {
   "cell_type": "code",
   "execution_count": 24,
   "metadata": {},
   "outputs": [
    {
     "name": "stdout",
     "output_type": "stream",
     "text": [
      "[[ 0  1  2  3]\n",
      " [ 4  5  6  7]\n",
      " [ 8  9 10 11]]\n",
      "[ 6 22 38]\n"
     ]
    },
    {
     "data": {
      "text/plain": [
       "array([[ 0,  1,  3,  6],\n",
       "       [ 4,  9, 15, 22],\n",
       "       [ 8, 17, 27, 38]], dtype=int32)"
      ]
     },
     "execution_count": 24,
     "metadata": {},
     "output_type": "execute_result"
    }
   ],
   "source": [
    "import numpy as np\n",
    "a=np.ones(3,dtype=np.int32)\n",
    "b=np.linspace(0,3.14,3)\n",
    "b.dtype.name\n",
    "c=a+b\n",
    "#print(c)\n",
    "d=np.exp(c*1j)\n",
    "sum(d)\n",
    "min(d)\n",
    "max(c)\n",
    "c=np.arange(12).reshape(3,4)\n",
    "print(c)\n",
    "print(c.sum(axis=1))\n",
    "c.cumsum(axis=1)"
   ]
  }
 ],
 "metadata": {
  "kernelspec": {
   "display_name": "Python 3",
   "language": "python",
   "name": "python3"
  },
  "language_info": {
   "codemirror_mode": {
    "name": "ipython",
    "version": 3
   },
   "file_extension": ".py",
   "mimetype": "text/x-python",
   "name": "python",
   "nbconvert_exporter": "python",
   "pygments_lexer": "ipython3",
   "version": "3.7.1"
  }
 },
 "nbformat": 4,
 "nbformat_minor": 2
}

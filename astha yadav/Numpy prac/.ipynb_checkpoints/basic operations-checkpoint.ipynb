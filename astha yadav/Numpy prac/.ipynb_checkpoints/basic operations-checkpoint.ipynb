{
 "cells": [
  {
   "cell_type": "code",
   "execution_count": 12,
   "metadata": {},
   "outputs": [
    {
     "name": "stdout",
     "output_type": "stream",
     "text": [
      "[0 1 2 3]\n",
      "addn: [6 9 4 8]\n",
      "subtrn: [6 7 0 2]\n",
      "multipl: [ 0  8  4 15]\n",
      "divsn: [0.    0.125 1.    0.6  ]\n",
      "a[]*2= [36 64  4 25]\n",
      "sinx: [-2.79415498  9.89358247  9.09297427 -9.58924275]\n",
      "a<6 [False False  True  True]\n"
     ]
    }
   ],
   "source": [
    "import numpy as np\n",
    "a=np.array([6,8,2,5])\n",
    "b=np.arange(4)\n",
    "print(b)\n",
    "c=a+b\n",
    "print(\"addn:\",c)\n",
    "d=a-b\n",
    "print(\"subtrn:\",d)\n",
    "d=a*b\n",
    "print(\"multipl:\",d)\n",
    "e=b/a\n",
    "print(\"divsn:\",e)\n",
    "print(\"a[]*2=\",a**2)\n",
    "print(\"sinx:\",10*np.sin(a))\n",
    "print(\"a<6\",a<6)"
   ]
  }
 ],
 "metadata": {
  "kernelspec": {
   "display_name": "Python 3",
   "language": "python",
   "name": "python3"
  },
  "language_info": {
   "codemirror_mode": {
    "name": "ipython",
    "version": 3
   },
   "file_extension": ".py",
   "mimetype": "text/x-python",
   "name": "python",
   "nbconvert_exporter": "python",
   "pygments_lexer": "ipython3",
   "version": "3.7.1"
  }
 },
 "nbformat": 4,
 "nbformat_minor": 2
}

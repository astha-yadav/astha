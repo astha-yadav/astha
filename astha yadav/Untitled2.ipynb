{
 "cells": [
  {
   "cell_type": "code",
   "execution_count": 1,
   "metadata": {},
   "outputs": [
    {
     "name": "stdout",
     "output_type": "stream",
     "text": [
      "enter name: \n"
     ]
    }
   ],
   "source": [
    "print(\"enter name: \")"
   ]
  },
  {
   "cell_type": "code",
   "execution_count": 2,
   "metadata": {},
   "outputs": [
    {
     "name": "stdout",
     "output_type": "stream",
     "text": [
      "enter name: \n",
      "astha\n",
      "a\n",
      "s\n",
      "t\n",
      "h\n",
      "a\n"
     ]
    }
   ],
   "source": [
    "print(\"enter name: \")\n",
    "m=input()\n",
    "for c in m:\n",
    "    print(c)"
   ]
  },
  {
   "cell_type": "code",
   "execution_count": 3,
   "metadata": {},
   "outputs": [
    {
     "name": "stdout",
     "output_type": "stream",
     "text": [
      "enter name: \n",
      "astha\n",
      "astha"
     ]
    }
   ],
   "source": [
    "print(\"enter name: \")\n",
    "m=input()\n",
    "for c in m:\n",
    "    print(c,end=\"\")"
   ]
  },
  {
   "cell_type": "code",
   "execution_count": 8,
   "metadata": {},
   "outputs": [
    {
     "name": "stdout",
     "output_type": "stream",
     "text": [
      "enter name: \n",
      "astha\n",
      "ASTHA5\n"
     ]
    }
   ],
   "source": [
    "print(\"enter name: \")\n",
    "m=input()\n",
    "for c in m:\n",
    "    print(c.upper(),end=\"\")\n",
    "print(len(m))"
   ]
  },
  {
   "cell_type": "code",
   "execution_count": 5,
   "metadata": {},
   "outputs": [
    {
     "name": "stdout",
     "output_type": "stream",
     "text": [
      "enter name: \n",
      "astha\n",
      "ASTHA\n"
     ]
    }
   ],
   "source": [
    "print(\"enter name: \")\n",
    "print(input().upper())"
   ]
  },
  {
   "cell_type": "code",
   "execution_count": 9,
   "metadata": {},
   "outputs": [
    {
     "name": "stdout",
     "output_type": "stream",
     "text": [
      "hello world\n"
     ]
    }
   ],
   "source": [
    "from sys import argv\n",
    "if len(argv)==2:\n",
    "    print(\"hello\",argv[0])\n",
    "else:\n",
    "    print(\"hello world\")"
   ]
  },
  {
   "cell_type": "code",
   "execution_count": 10,
   "metadata": {},
   "outputs": [
    {
     "name": "stdout",
     "output_type": "stream",
     "text": [
      "hello world\n"
     ]
    }
   ],
   "source": [
    "from sys import argv\n",
    "if len(argv)==1:\n",
    "    print(\"hello\",argv[0])\n",
    "else:\n",
    "    print(\"hello world\")"
   ]
  },
  {
   "cell_type": "code",
   "execution_count": null,
   "metadata": {},
   "outputs": [],
   "source": []
  }
 ],
 "metadata": {
  "kernelspec": {
   "display_name": "Python 3",
   "language": "python",
   "name": "python3"
  },
  "language_info": {
   "codemirror_mode": {
    "name": "ipython",
    "version": 3
   },
   "file_extension": ".py",
   "mimetype": "text/x-python",
   "name": "python",
   "nbconvert_exporter": "python",
   "pygments_lexer": "ipython3",
   "version": "3.7.1"
  }
 },
 "nbformat": 4,
 "nbformat_minor": 2
}

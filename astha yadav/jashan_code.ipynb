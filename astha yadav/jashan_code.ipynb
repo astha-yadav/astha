{
 "cells": [
  {
   "cell_type": "code",
   "execution_count": 1,
   "metadata": {},
   "outputs": [
    {
     "name": "stdout",
     "output_type": "stream",
     "text": [
      "no of variables: 4898431 \n",
      " no of records: 41\n",
      "(4898431, 39)\n",
      "(4898431,)\n",
      "x_train shape(3428901, 39)\n",
      "x_test shape(1469530, 39)\n",
      "y_train shape(3428901,)\n",
      "y_test shape(1469530,)\n"
     ]
    },
    {
     "name": "stderr",
     "output_type": "stream",
     "text": [
      "C:\\Users\\HP\\Anaconda3\\lib\\site-packages\\sklearn\\preprocessing\\data.py:625: DataConversionWarning: Data with input dtype int32, int64 were all converted to float64 by StandardScaler.\n",
      "  return self.partial_fit(X, y)\n",
      "C:\\Users\\HP\\Anaconda3\\lib\\site-packages\\sklearn\\base.py:462: DataConversionWarning: Data with input dtype int32, int64 were all converted to float64 by StandardScaler.\n",
      "  return self.fit(X, **fit_params).transform(X)\n",
      "C:\\Users\\HP\\Anaconda3\\lib\\site-packages\\ipykernel_launcher.py:40: DataConversionWarning: Data with input dtype int32, int64 were all converted to float64 by StandardScaler.\n",
      "C:\\Users\\HP\\Anaconda3\\lib\\site-packages\\sklearn\\neural_network\\multilayer_perceptron.py:564: UserWarning: Training interrupted by user.\n",
      "  warnings.warn(\"Training interrupted by user.\")\n"
     ]
    },
    {
     "name": "stdout",
     "output_type": "stream",
     "text": [
      "train accuracy: 99.97%\n",
      "test accuracy: 99.97%\n"
     ]
    }
   ],
   "source": [
    "import numpy as np\n",
    "import pandas as pd\n",
    "from sklearn.preprocessing import MinMaxScaler\n",
    "from sklearn.model_selection import train_test_split\n",
    "import matplotlib.pyplot as plt\n",
    "import random\n",
    "from sklearn.preprocessing import StandardScaler\n",
    "from sklearn.neural_network import MLPClassifier\n",
    "from sklearn import preprocessing\n",
    "\n",
    "col_names=['duration','protocol_type','service','flag','src_bytes','dst_types','land','wrong_fragment','urgent','hot','num_failed_logins',\n",
    "     'logged_in','num_compromised','root_shell','su_attempted','num_root','num_file_creations','num_shells','num_access_files',\n",
    "     'num_outbound_cmds','is_host_login','is_guest_login','count','srv_count','serrror_rate','srv_serror_rate','rerror_rate','srv_rerror_rate',\n",
    "     'same_srv_rate','diff_srv_rate','srv_diff_host_rate','dst_host_count','dst_host_srv_count','dst_host_same_srv_count','dst_host_diff_srv_count',\n",
    "     'dst_host_same_srv_port_rate','dst_host_srv_diff_host_rate','dst_host_serror_rate','dst_host_srv_serror_rate','dst_host_rerror_rate','dst_host_srv_rerror_rate']\n",
    "\n",
    "df = pd.read_csv(\"KNN_dataset.csv\",names=col_names,header=None)\n",
    "#print(df.head(3))\n",
    "print(\"no of variables: {} \\n no of records: {}\".format(df.shape[0],df.shape[1]))\n",
    "x_2=df.iloc[:, 1:-1]\n",
    "le = preprocessing.LabelEncoder()\n",
    "x = x_2.apply(le.fit_transform)\n",
    "\n",
    "#allocating x and y \n",
    "#x,y=df.iloc[:, 1:-1],df.iloc[:, -1]\n",
    "y=df.iloc[:, -1]\n",
    "print(x.shape)\n",
    "print(y.shape)\n",
    "\n",
    "#splitting the data\n",
    "x_train, x_test, y_train, y_test = train_test_split(x, y, test_size=0.3, random_state=2606)\n",
    "print(\"x_train shape\" +str(x_train.shape))\n",
    "print(\"x_test shape\" +str(x_test.shape))\n",
    "print(\"y_train shape\" +str(y_train.shape))\n",
    "print(\"y_test shape\" +str(y_test.shape))\n",
    "\n",
    "#scaling the dataset\n",
    "scaler=StandardScaler()\n",
    "#x_train=scaler.fit_transform(x_train)\n",
    "#x_test=scaler.transform(x_test)\n",
    "\n",
    "#modelling and predicting (function)\n",
    "def train_model(x_train,y_train,x_test,y_test,classifier,**kwargs):\n",
    "    \"fit the chosen model and print out the score\"\n",
    "    #model -instantiate\n",
    "    model=classifier(**kwargs)\n",
    "    \n",
    "    #training model\n",
    "    model.fit(x_train,y_train)\n",
    "    \n",
    "    #checking accuracy and printing out the results\n",
    "    fit_accuracy=model.score(x_train,y_train)\n",
    "    test_accuracy=model.score(x_test,y_test)\n",
    "    \n",
    "    print(f\"train accuracy: {fit_accuracy:0.2%}\")\n",
    "    print(f\"test accuracy: {test_accuracy:0.2%}\")\n",
    "    return model\n",
    "\n",
    "#appying neural network\n",
    "model=train_model(x_train,y_train,x_test,y_test,MLPClassifier)"
   ]
  },
  {
   "cell_type": "code",
   "execution_count": null,
   "metadata": {},
   "outputs": [],
   "source": []
  }
 ],
 "metadata": {
  "kernelspec": {
   "display_name": "Python 3",
   "language": "python",
   "name": "python3"
  },
  "language_info": {
   "codemirror_mode": {
    "name": "ipython",
    "version": 3
   },
   "file_extension": ".py",
   "mimetype": "text/x-python",
   "name": "python",
   "nbconvert_exporter": "python",
   "pygments_lexer": "ipython3",
   "version": "3.7.3"
  }
 },
 "nbformat": 4,
 "nbformat_minor": 2
}

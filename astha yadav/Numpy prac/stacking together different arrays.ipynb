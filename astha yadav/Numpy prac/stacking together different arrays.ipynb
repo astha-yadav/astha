{
 "cells": [
  {
   "cell_type": "code",
   "execution_count": 17,
   "metadata": {},
   "outputs": [
    {
     "name": "stdout",
     "output_type": "stream",
     "text": [
      "[[1. 2. 3.]\n",
      " [1. 5. 4.]\n",
      " [1. 7. 4.]]\n",
      "\n",
      "[[6. 3. 5.]\n",
      " [9. 8. 4.]\n",
      " [0. 9. 1.]]\n",
      "\n",
      "[[1. 2. 3.]\n",
      " [1. 5. 4.]\n",
      " [1. 7. 4.]\n",
      " [6. 3. 5.]\n",
      " [9. 8. 4.]\n",
      " [0. 9. 1.]]\n",
      "[[1. 2. 3. 6. 3. 5.]\n",
      " [1. 5. 4. 9. 8. 4.]\n",
      " [1. 7. 4. 0. 9. 1.]]\n"
     ]
    }
   ],
   "source": [
    "import numpy as np\n",
    "from numpy import newaxis\n",
    "a=np.floor(10*np.random.random((3,3)))\n",
    "print(a)\n",
    "print()\n",
    "b=np.floor(10*np.random.random((3,3)))\n",
    "print(b)\n",
    "print()\n",
    "print(np.vstack((a,b)))\n",
    "print(np.hstack((a,b)))"
   ]
  },
  {
   "cell_type": "code",
   "execution_count": 31,
   "metadata": {},
   "outputs": [
    {
     "name": "stdout",
     "output_type": "stream",
     "text": [
      "[[1. 2. 3. 6. 3. 5.]\n",
      " [1. 5. 4. 9. 8. 4.]\n",
      " [1. 7. 4. 0. 9. 1.]]\n",
      "[[[1. 2. 3.]]\n",
      "\n",
      " [[1. 5. 4.]]\n",
      "\n",
      " [[1. 7. 4.]]]\n"
     ]
    },
    {
     "data": {
      "text/plain": [
       "array([[[1., 2., 3.],\n",
       "        [6., 3., 5.]],\n",
       "\n",
       "       [[1., 5., 4.],\n",
       "        [9., 8., 4.]],\n",
       "\n",
       "       [[1., 7., 4.],\n",
       "        [0., 9., 1.]]])"
      ]
     },
     "execution_count": 31,
     "metadata": {},
     "output_type": "execute_result"
    }
   ],
   "source": [
    "print(np.column_stack((a,b)))\n",
    "c=np.array([1,2,3])\n",
    "d=np.array([4,5,6])\n",
    "np.column_stack((c,d))\n",
    "print(a[:,newaxis])\n",
    "#print(np.hstack((a[:,newaxis],b[:,newaxis])))\n",
    "np.column_stack((a[:,newaxis],b[:,newaxis]))"
   ]
  }
 ],
 "metadata": {
  "kernelspec": {
   "display_name": "Python 3",
   "language": "python",
   "name": "python3"
  },
  "language_info": {
   "codemirror_mode": {
    "name": "ipython",
    "version": 3
   },
   "file_extension": ".py",
   "mimetype": "text/x-python",
   "name": "python",
   "nbconvert_exporter": "python",
   "pygments_lexer": "ipython3",
   "version": "3.7.1"
  }
 },
 "nbformat": 4,
 "nbformat_minor": 2
}

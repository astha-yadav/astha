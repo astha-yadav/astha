{
 "cells": [
  {
   "cell_type": "code",
   "execution_count": 23,
   "metadata": {},
   "outputs": [
    {
     "name": "stdout",
     "output_type": "stream",
     "text": [
      "[[3. 1. 8. 8.]\n",
      " [8. 8. 7. 7.]\n",
      " [9. 5. 1. 3.]]\n",
      "[[3. 1. 8. 8. 8. 8.]\n",
      " [7. 7. 9. 5. 1. 3.]]\n"
     ]
    },
    {
     "data": {
      "text/plain": [
       "array([[3., 1., 8., 8.],\n",
       "       [8., 8., 7., 7.],\n",
       "       [9., 5., 1., 3.]])"
      ]
     },
     "execution_count": 23,
     "metadata": {},
     "output_type": "execute_result"
    }
   ],
   "source": [
    "import numpy as np\n",
    "a = np.floor(10*np.random.random((3,4)))\n",
    "print(a)\n",
    "a.ravel()\n",
    "a.reshape(3,4)\n",
    "\n",
    "a.T\n",
    "a.resize(2,6)\n",
    "print(a)\n",
    "a.reshape(3,-1)"
   ]
  },
  {
   "cell_type": "code",
   "execution_count": null,
   "metadata": {},
   "outputs": [],
   "source": []
  }
 ],
 "metadata": {
  "kernelspec": {
   "display_name": "Python 3",
   "language": "python",
   "name": "python3"
  },
  "language_info": {
   "codemirror_mode": {
    "name": "ipython",
    "version": 3
   },
   "file_extension": ".py",
   "mimetype": "text/x-python",
   "name": "python",
   "nbconvert_exporter": "python",
   "pygments_lexer": "ipython3",
   "version": "3.7.1"
  }
 },
 "nbformat": 4,
 "nbformat_minor": 2
}

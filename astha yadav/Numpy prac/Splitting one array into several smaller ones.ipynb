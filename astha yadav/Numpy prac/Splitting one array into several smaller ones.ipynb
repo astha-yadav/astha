{
 "cells": [
  {
   "cell_type": "code",
   "execution_count": 8,
   "metadata": {
    "scrolled": true
   },
   "outputs": [
    {
     "name": "stdout",
     "output_type": "stream",
     "text": [
      "[[4. 1. 0. 6. 9. 2. 6. 1. 9. 8. 7. 2.]\n",
      " [8. 0. 8. 7. 8. 7. 8. 6. 8. 5. 4. 2.]]\n",
      "\n",
      "[array([[4., 1., 0., 6.],\n",
      "       [8., 0., 8., 7.]]), array([[9., 2., 6., 1.],\n",
      "       [8., 7., 8., 6.]]), array([[9., 8., 7., 2.],\n",
      "       [8., 5., 4., 2.]])]\n",
      "[array([[4., 1., 0.],\n",
      "       [8., 0., 8.]]), array([[6.],\n",
      "       [7.]]), array([[9., 2., 6., 1., 9., 8., 7., 2.],\n",
      "       [8., 7., 8., 6., 8., 5., 4., 2.]])]\n",
      "[array([[6., 5.],\n",
      "       [5., 2.],\n",
      "       [2., 7.],\n",
      "       [8., 7.]]), array([[4., 8.],\n",
      "       [8., 4.],\n",
      "       [8., 2.],\n",
      "       [9., 3.]]), array([[9., 9.],\n",
      "       [3., 0.],\n",
      "       [7., 3.],\n",
      "       [3., 0.]])]\n"
     ]
    }
   ],
   "source": [
    "import numpy as np\n",
    "a=np.floor(10*np.random.random((2,12)))\n",
    "print(a)\n",
    "print()\n",
    "print(np.hsplit(a,3))\n",
    "print(np.hsplit(a,(3,4)))\n",
    "b=np.floor(10*np.random.random((12,2)))\n",
    "print(np.vsplit(b,3))\n"
   ]
  }
 ],
 "metadata": {
  "kernelspec": {
   "display_name": "Python 3",
   "language": "python",
   "name": "python3"
  },
  "language_info": {
   "codemirror_mode": {
    "name": "ipython",
    "version": 3
   },
   "file_extension": ".py",
   "mimetype": "text/x-python",
   "name": "python",
   "nbconvert_exporter": "python",
   "pygments_lexer": "ipython3",
   "version": "3.7.1"
  }
 },
 "nbformat": 4,
 "nbformat_minor": 2
}

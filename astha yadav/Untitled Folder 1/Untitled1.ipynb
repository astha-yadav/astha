{
 "cells": [
  {
   "cell_type": "code",
   "execution_count": 8,
   "metadata": {},
   "outputs": [
    {
     "name": "stdout",
     "output_type": "stream",
     "text": [
      "0.08893651993741346\n",
      "1.4777440851894448\n"
     ]
    }
   ],
   "source": [
    "from numpy import *\n",
    "\n",
    "\n",
    "def compute_error_for_given_points(b,m,points):\n",
    "    totalerror=0\n",
    "    for i in range(0,len(points)):\n",
    "        x=points[i,0]\n",
    "        y=points[i,1]\n",
    "        totalerror+=(y-(m*x+b))**2\n",
    "    return totalerror/float(len(points))\n",
    "\n",
    "def step_gradient(b_current,m_current,points,learning_rate):\n",
    "    #gradient descent\n",
    "    b_gradient=0\n",
    "    m_gradient=0\n",
    "    N=float(len(points))\n",
    "    for i in range(0,len(points)):\n",
    "        x=points[i,0]\n",
    "        y=points[i,1]\n",
    "        b_gradient+=-(2/N)*(y-((m_current*x)+b_current))\n",
    "        m_gradient+=-(2/N)*x*(y-((m_current*x)+b_current))\n",
    "    new_b=b_current-(learning_rate*b_gradient)\n",
    "    new_m=m_current-(learning_rate*m_gradient)\n",
    "    return [new_b,new_m]\n",
    "    \n",
    "def gradient_descent_runner(points,initial_b,initial_m,learning_rate,num_iterations):\n",
    "    b=initial_b\n",
    "    m=initial_m\n",
    "    for i in range(num_iterations):\n",
    "        b,m=step_gradient(b,m,array(points),learning_rate)\n",
    "    return [b,m]\n",
    "\n",
    "def run():\n",
    "    points=genfromtxt('data.csv',delimiter=',')\n",
    "    # hyperparam-for tuning param\n",
    "    learning_rate=0.0001\n",
    "    # y=mx+b\n",
    "    initial_b=0\n",
    "    initial_m=0\n",
    "    num_iterations=1000\n",
    "    [b,m]=gradient_descent_runner(points,initial_b,initial_m,learning_rate,num_iterations)\n",
    "    print(b)\n",
    "    print(m)\n",
    "    \n",
    "if __name__=='__main__':\n",
    "    run()"
   ]
  }
 ],
 "metadata": {
  "kernelspec": {
   "display_name": "Python 3",
   "language": "python",
   "name": "python3"
  },
  "language_info": {
   "codemirror_mode": {
    "name": "ipython",
    "version": 3
   },
   "file_extension": ".py",
   "mimetype": "text/x-python",
   "name": "python",
   "nbconvert_exporter": "python",
   "pygments_lexer": "ipython3",
   "version": "3.7.3"
  }
 },
 "nbformat": 4,
 "nbformat_minor": 2
}
